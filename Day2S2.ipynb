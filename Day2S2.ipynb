{
  "nbformat": 4,
  "nbformat_minor": 0,
  "metadata": {
    "colab": {
      "name": "Day2S2.ipynb",
      "provenance": [],
      "collapsed_sections": [],
      "authorship_tag": "ABX9TyN4S/NG3IOPv3rrmRVo0+GT",
      "include_colab_link": true
    },
    "kernelspec": {
      "name": "python3",
      "display_name": "Python 3"
    }
  },
  "cells": [
    {
      "cell_type": "markdown",
      "metadata": {
        "id": "view-in-github",
        "colab_type": "text"
      },
      "source": [
        "<a href=\"https://colab.research.google.com/github/shaifashala/DailyReport/blob/master/Day2S2.ipynb\" target=\"_parent\"><img src=\"https://colab.research.google.com/assets/colab-badge.svg\" alt=\"Open In Colab\"/></a>"
      ]
    },
    {
      "cell_type": "markdown",
      "metadata": {
        "id": "ChPmjJHiNcIY",
        "colab_type": "text"
      },
      "source": [
        "EXAMPLES\n"
      ]
    },
    {
      "cell_type": "code",
      "metadata": {
        "id": "6nlIUHANJ99G",
        "colab_type": "code",
        "outputId": "8fc52b2c-14b5-4dd7-b69b-d7e9d1fbbdeb",
        "colab": {
          "base_uri": "https://localhost:8080/",
          "height": 51
        }
      },
      "source": [
        "#dict.clear()\n",
        "#Removes all elements of dictionary dict\n",
        "\n",
        "dict = {'Name': 'Zara', 'Age': 7};\n",
        "print(\"Start Len : %d\" %  len(dict))\n",
        "dict.clear()\n",
        "print(\"End Len : %d\" %  len(dict))\n",
        "\n"
      ],
      "execution_count": 0,
      "outputs": [
        {
          "output_type": "stream",
          "text": [
            "Start Len : 2\n",
            "End Len : 0\n"
          ],
          "name": "stdout"
        }
      ]
    },
    {
      "cell_type": "code",
      "metadata": {
        "id": "-SSMIaH8K4bl",
        "colab_type": "code",
        "outputId": "83f15c7b-2e8d-4f48-996a-97bd3df1f682",
        "colab": {
          "base_uri": "https://localhost:8080/",
          "height": 34
        }
      },
      "source": [
        "#dict.items()\n",
        "#Returns a list of dict's (key, value) tuple pairs\n",
        "\n",
        "dict = {'Name': 'Zara', 'Age': 7}\n",
        "print (\"Value : %s\" %  dict.items())\n"
      ],
      "execution_count": 0,
      "outputs": [
        {
          "output_type": "stream",
          "text": [
            "Value : dict_items([('Name', 'Zara'), ('Age', 7)])\n"
          ],
          "name": "stdout"
        }
      ]
    },
    {
      "cell_type": "code",
      "metadata": {
        "id": "dT4IhrEfLJNI",
        "colab_type": "code",
        "outputId": "1ca11fe0-2617-48a9-fa8a-0bc58945f1af",
        "colab": {
          "base_uri": "https://localhost:8080/",
          "height": 34
        }
      },
      "source": [
        "# dict.copy()\n",
        "#Returns a copy of dictionary dict\n",
        "\n",
        "dict1 = {'Name': 'Zara', 'Age': 7};\n",
        "dict2 = dict1.copy()\n",
        "print (\"New Dictinary : %s\" %  str(dict2))\n"
      ],
      "execution_count": 0,
      "outputs": [
        {
          "output_type": "stream",
          "text": [
            "New Dictinary : {'Name': 'Zara', 'Age': 7}\n"
          ],
          "name": "stdout"
        }
      ]
    },
    {
      "cell_type": "code",
      "metadata": {
        "id": "LCKiy-eFLQgj",
        "colab_type": "code",
        "outputId": "a5841b5a-fd43-4c38-f75c-c5725b51f472",
        "colab": {
          "base_uri": "https://localhost:8080/",
          "height": 51
        }
      },
      "source": [
        "#Python Program to Generate a Dictionary that Contains Numbers (between 1 and n) in the Form (x,x*x). \n",
        "n=int(input(\"Enter a number:\"))\n",
        "d={x:x*x for x in range(1,n+1)}\n",
        "print(d)\n"
      ],
      "execution_count": 0,
      "outputs": [
        {
          "output_type": "stream",
          "text": [
            "Enter a number:2\n",
            "{1: 1, 2: 4}\n"
          ],
          "name": "stdout"
        }
      ]
    },
    {
      "cell_type": "code",
      "metadata": {
        "id": "KSEyjJZQLiJV",
        "colab_type": "code",
        "outputId": "93f6628d-be2d-4916-da7f-fa8172edf68c",
        "colab": {
          "base_uri": "https://localhost:8080/",
          "height": 51
        }
      },
      "source": [
        "#Python Program to Sum All the Items in a Dictionary \n",
        "d={'A':100,'B':540,'C':239}\n",
        "print(\"Total sum of values in the dictionary:\")\n",
        "print(sum(d.values()))\n"
      ],
      "execution_count": 0,
      "outputs": [
        {
          "output_type": "stream",
          "text": [
            "Total sum of values in the dictionary:\n",
            "879\n"
          ],
          "name": "stdout"
        }
      ]
    },
    {
      "cell_type": "code",
      "metadata": {
        "id": "TcRlPBSAL_n5",
        "colab_type": "code",
        "outputId": "724e72c3-6c75-4ee6-cb5b-475787aa54ad",
        "colab": {
          "base_uri": "https://localhost:8080/",
          "height": 102
        }
      },
      "source": [
        "#Python Program to Remove the Given Key from a Dictionary \n",
        "d = {'a':1,'b':2,'c':3,'d':4}\n",
        "print(\"Initial dictionary\")\n",
        "print(d)\n",
        "key=input(\"Enter the key to delete(a-d):\")\n",
        "if key in d: \n",
        "    del d[key]\n",
        "else:\n",
        "    print(\"Key not found!\")\n",
        "    exit(0)\n",
        "print(\"Updated dictionary\")\n",
        "print(d)\n"
      ],
      "execution_count": 0,
      "outputs": [
        {
          "output_type": "stream",
          "text": [
            "Initial dictionary\n",
            "{'a': 1, 'b': 2, 'c': 3, 'd': 4}\n",
            "Enter the key to delete(a-d):b\n",
            "Updated dictionary\n",
            "{'a': 1, 'c': 3, 'd': 4}\n"
          ],
          "name": "stdout"
        }
      ]
    },
    {
      "cell_type": "code",
      "metadata": {
        "id": "yclMtP7fMO_K",
        "colab_type": "code",
        "outputId": "55bbea7d-659e-4326-d066-218e1ffc59e5",
        "colab": {
          "base_uri": "https://localhost:8080/",
          "height": 136
        }
      },
      "source": [
        "#Python Program to add name and mark as key->value pair in  a Dictionary and print it.\n",
        "n=int(input(\"Enter no of records\"))\n",
        "d={}\n",
        "for i in range(1,n+1):\n",
        "    name= input(\"Enter name %d\"%(i))\n",
        "    mark=int(input(\"Enter mark %d\"%(i)))\n",
        "    d[name]=mark\n",
        "    print (d)\n"
      ],
      "execution_count": 0,
      "outputs": [
        {
          "output_type": "stream",
          "text": [
            "Enter no of records2\n",
            "Enter name 1sha\n",
            "Enter mark 120\n",
            "{'sha': 20}\n",
            "Enter name 2rou\n",
            "Enter mark 219\n",
            "{'sha': 20, 'rou': 19}\n"
          ],
          "name": "stdout"
        }
      ]
    },
    {
      "cell_type": "code",
      "metadata": {
        "id": "RGv-WVzMMhe0",
        "colab_type": "code",
        "outputId": "55b854cf-e37d-4f9d-9ef0-30ba5e5df8b9",
        "colab": {
          "base_uri": "https://localhost:8080/",
          "height": 493
        }
      },
      "source": [
        "# Keys and Values exampl\n",
        "d={}\n",
        "print (\" The dictionary elements are\")\n",
        "for i in range(1,21):\n",
        "    d[i]=i**2\n",
        "print (d)\n",
        "# To print key and values\n",
        "print (\" Key==> Value are\")\n",
        "for (k,v) in d.items():\t\n",
        "    print(k,\"==>\",v)\n",
        "# To print key only\n",
        "print (\"\\nTo print key only\")\n",
        "for k in d.keys():\t\n",
        "    print(k, end=\" \")\n",
        "#To print value only\n",
        "print (\"\\nTo print values only\")\n",
        "for v in d.values():\t\n",
        "  print(v, end=\" \")\n"
      ],
      "execution_count": 15,
      "outputs": [
        {
          "output_type": "stream",
          "text": [
            " The dictionary elements are\n",
            "{1: 1, 2: 4, 3: 9, 4: 16, 5: 25, 6: 36, 7: 49, 8: 64, 9: 81, 10: 100, 11: 121, 12: 144, 13: 169, 14: 196, 15: 225, 16: 256, 17: 289, 18: 324, 19: 361, 20: 400}\n",
            " Key==> Value are\n",
            "1 ==> 1\n",
            "2 ==> 4\n",
            "3 ==> 9\n",
            "4 ==> 16\n",
            "5 ==> 25\n",
            "6 ==> 36\n",
            "7 ==> 49\n",
            "8 ==> 64\n",
            "9 ==> 81\n",
            "10 ==> 100\n",
            "11 ==> 121\n",
            "12 ==> 144\n",
            "13 ==> 169\n",
            "14 ==> 196\n",
            "15 ==> 225\n",
            "16 ==> 256\n",
            "17 ==> 289\n",
            "18 ==> 324\n",
            "19 ==> 361\n",
            "20 ==> 400\n",
            "\n",
            "To print key only\n",
            "1 2 3 4 5 6 7 8 9 10 11 12 13 14 15 16 17 18 19 20 \n",
            "To print values only\n",
            "1 4 9 16 25 36 49 64 81 100 121 144 169 196 225 256 289 324 361 400 "
          ],
          "name": "stdout"
        }
      ]
    },
    {
      "cell_type": "code",
      "metadata": {
        "id": "AMUTGcX5M5C6",
        "colab_type": "code",
        "outputId": "f575c1d7-aeed-4c2d-92d3-586a88dc0fb5",
        "colab": {
          "base_uri": "https://localhost:8080/",
          "height": 51
        }
      },
      "source": [
        "#Python program to convert 2 digit number   into words\n",
        "\n",
        "d={0:'',1:'one',2:'two',3:'three',4:'four',5:'five',6:'six',7:'seven',8:'eight',9:'nine',\\\n",
        "   10:'ten',11:'eleven',12:'twelve',13:'thirteen',14:'fourteen',15:'fifteen',16:'sixteen',\\\n",
        "   17:'seventeen',18:'eightteen',19:'nineteen',20:'twenty',30:'thirty',40:'fourty',50:'fifty',\\\n",
        "   60:'sixty',70:'seventy',80:'eighty',90:'ninty'}\n",
        "\n",
        "num=int(input(\"Enter the integer between 1 to 99:\"))\n",
        "if (num<=20):\n",
        "      print(d[num])\n",
        "if(num>20 and num<100):\n",
        "        if num%10==0:       \n",
        "            print(d[num])\n",
        "        else:\n",
        "            print(d[num//10*10]+\" \"+d[num%10])\n",
        "\n"
      ],
      "execution_count": 0,
      "outputs": [
        {
          "output_type": "stream",
          "text": [
            "Enter the integer between 1 to 99:9\n",
            "nine\n"
          ],
          "name": "stdout"
        }
      ]
    },
    {
      "cell_type": "code",
      "metadata": {
        "id": "q9geILaWNFHU",
        "colab_type": "code",
        "outputId": "41b8a4eb-59a2-4a22-c19e-b30684286a07",
        "colab": {
          "base_uri": "https://localhost:8080/",
          "height": 51
        }
      },
      "source": [
        "#How to sort a dictionary by values in Python\n",
        "\n",
        "d = {\"Pierre\": 42, \"Anne\": 33, \"Zoe\": 24}\n",
        "#Use the sorted function and operator module\n",
        "import operator\n",
        "sorted_d = sorted(d.items(), key=operator.itemgetter(1))\n",
        "print(sorted_d)\n",
        "sorted_a= sorted(d.items(), key=operator.itemgetter(1),reverse=True)\n",
        "print(sorted_a)\n"
      ],
      "execution_count": 0,
      "outputs": [
        {
          "output_type": "stream",
          "text": [
            "[('Zoe', 24), ('Anne', 33), ('Pierre', 42)]\n",
            "[('Pierre', 42), ('Anne', 33), ('Zoe', 24)]\n"
          ],
          "name": "stdout"
        }
      ]
    },
    {
      "cell_type": "code",
      "metadata": {
        "id": "I1svCDdllBef",
        "colab_type": "code",
        "colab": {}
      },
      "source": [
        "#Python Program to count the number of words in a text file. \n",
        "fname = input(\"Enter file name: \")\n",
        "num_words = 0\n",
        "with open(fname, 'r') as f:\n",
        "    for line in f:\n",
        "        words = line.split()\n",
        "        num_words += len(words)\n",
        "print(\"Number of words:\")\n",
        "print(num_words)\n"
      ],
      "execution_count": 0,
      "outputs": []
    },
    {
      "cell_type": "markdown",
      "metadata": {
        "id": "tu-zOMxoOwVo",
        "colab_type": "text"
      },
      "source": [
        "DICTIONARY EXERCISE\n"
      ]
    },
    {
      "cell_type": "code",
      "metadata": {
        "id": "AQs85DngOyg1",
        "colab_type": "code",
        "outputId": "138be67e-60d0-4a1d-c68c-31e99fa4bdcc",
        "colab": {
          "base_uri": "https://localhost:8080/",
          "height": 136
        }
      },
      "source": [
        "#\tAdd rollno and marks {name:mark} for n number of students through keyboard in a dictionary and print the marks in descending order with respective name.\n",
        "n=int(input(\"Enter no of records\"))\n",
        "d={}\n",
        "import operator\n",
        "for i in range(1,n+1):\n",
        "  name= input(\"Enter name %d\"%(i))\n",
        "  mark=int(input(\"Enter mark %d\"%(i)))\n",
        "  d[name]=mark\n",
        "print(\"input: \",d)\n",
        "sorted_a= sorted(d.items(), key=operator.itemgetter(1),reverse=True)\n",
        "print(\"output: \",sorted_a)\n",
        "\n"
      ],
      "execution_count": 0,
      "outputs": [
        {
          "output_type": "stream",
          "text": [
            "Enter no of records2\n",
            "Enter name 1SHA\n",
            "Enter mark 198\n",
            "Enter name 2ROU\n",
            "Enter mark 298\n",
            "input:  {'SHA': 98, 'ROU': 98}\n",
            "output:  [('SHA', 98), ('ROU', 98)]\n"
          ],
          "name": "stdout"
        }
      ]
    },
    {
      "cell_type": "code",
      "metadata": {
        "id": "EWy2He5SP1mr",
        "colab_type": "code",
        "outputId": "9e082342-72b6-4032-f480-eefbce7942c2",
        "colab": {
          "base_uri": "https://localhost:8080/",
          "height": 170
        }
      },
      "source": [
        "#Add  name and salary {name:salary} for n number of employees through keyboard in a dictionary and print them in name alphabetical order with salary\n",
        "n=int(input(\"Enter no of records\"))\n",
        "d={}\n",
        "import operator\n",
        "for i in range(1,n+1):\n",
        "  name= input(\"Enter name %d\"%(i))\n",
        "  s=float(input(\"Enter salary %d\"%(i)))\n",
        "  d[name]=s\n",
        "print(\"input: \",d)\n",
        "sorted_a= sorted(d.items(), key=operator.itemgetter(0))\n",
        "print(\"output: \",sorted_a)\n"
      ],
      "execution_count": 0,
      "outputs": [
        {
          "output_type": "stream",
          "text": [
            "Enter no of records3\n",
            "Enter name 1ROU\n",
            "Enter salary 11000\n",
            "Enter name 2SHA\n",
            "Enter salary 22000\n",
            "Enter name 3SRI\n",
            "Enter salary 33000\n",
            "input:  {'ROU': 1000.0, 'SHA': 2000.0, 'SRI': 3000.0}\n",
            "output:  [('ROU', 1000.0), ('SHA', 2000.0), ('SRI', 3000.0)]\n"
          ],
          "name": "stdout"
        }
      ]
    },
    {
      "cell_type": "code",
      "metadata": {
        "id": "8CS3FB8iQVOR",
        "colab_type": "code",
        "outputId": "3ea807ab-fdea-4ff6-e47d-1012b0958491",
        "colab": {
          "base_uri": "https://localhost:8080/",
          "height": 204
        }
      },
      "source": [
        "#\tAdd  name and salary {name:salary} for n number of employees through keyboard in a dictionary and print them in salary  ascending order and  sum, max, min and average of the salaries\n",
        "n=int(input(\"Enter no of records\"))\n",
        "d={}\n",
        "import operator\n",
        "for i in range(1,n+1):\n",
        "  name= input(\"Enter name %d\"%(i))\n",
        "  s=float(input(\"Enter salary %d\"%(i)))\n",
        "  d[name]=s\n",
        "print(\"input: \",d)\n",
        "sorted_a= sorted(d.items(), key=operator.itemgetter(1))\n",
        "print(\"output: \",sorted_a)\n",
        "v = d.values()\n",
        "print(\"sum: \",sum(v))\n",
        "print(\"max: \",max(v))\n",
        "print(\"min: \",min(v))\n",
        "print(\"avg: \",(sum(v)/n))"
      ],
      "execution_count": 0,
      "outputs": [
        {
          "output_type": "stream",
          "text": [
            "Enter no of records2\n",
            "Enter name 1SHA\n",
            "Enter salary 1500000\n",
            "Enter name 2ROU\n",
            "Enter salary 2100000\n",
            "input:  {'SHA': 500000.0, 'ROU': 100000.0}\n",
            "output:  [('ROU', 100000.0), ('SHA', 500000.0)]\n",
            "sum:  600000.0\n",
            "max:  500000.0\n",
            "min:  100000.0\n",
            "avg:  300000.0\n"
          ],
          "name": "stdout"
        }
      ]
    },
    {
      "cell_type": "code",
      "metadata": {
        "id": "e9o5hlruRII1",
        "colab_type": "code",
        "outputId": "cda82849-ea3e-40f4-9a96-6eb853825523",
        "colab": {
          "base_uri": "https://localhost:8080/",
          "height": 119
        }
      },
      "source": [
        "#Add name and salary {name:salary} for n number of employees through keyboard in a dictionary and print only the employees whose salary is greater than 2000 but less than 4000\n",
        "n=int(input(\"Enter no of records\"))\n",
        "d={}\n",
        "import operator\n",
        "for i in range(1,n+1):\n",
        "  name= input(\"Enter name %d\"%(i))\n",
        "  s=int(input(\"Enter salary %d\"%(i)))\n",
        "  d[name]=s\n",
        "print(\"input: \",d)\n",
        "for key,value in d.items():\n",
        "    if value>=2000 and value<=4000:\n",
        "         print(d[key],\"=\",key)\n",
        "\n"
      ],
      "execution_count": 0,
      "outputs": [
        {
          "output_type": "stream",
          "text": [
            "Enter no of records2\n",
            "Enter name 1SRI\n",
            "Enter salary 1200000\n",
            "Enter name 2JOY\n",
            "Enter salary 2100000\n",
            "input:  {'SRI': 200000, 'JOY': 100000}\n"
          ],
          "name": "stdout"
        }
      ]
    },
    {
      "cell_type": "code",
      "metadata": {
        "id": "er3D_RCwRb3i",
        "colab_type": "code",
        "outputId": "efb3c899-611b-46ba-b00d-578756813f56",
        "colab": {
          "base_uri": "https://localhost:8080/",
          "height": 68
        }
      },
      "source": [
        "#Python program to convert a 3 digit number  into words\n",
        "def convert_to_words(num):  \n",
        "    l = len(num);    \n",
        "    if (l == 0): \n",
        "        print(\"empty string\"); \n",
        "        return; \n",
        "  \n",
        "    if (l > 4): \n",
        "        print(\"Length more than 4 is not supported\"); \n",
        "        return;   \n",
        "    single_digits = [\"zero\", \"one\", \"two\", \"three\",  \n",
        "                     \"four\", \"five\", \"six\", \"seven\",  \n",
        "                     \"eight\", \"nine\"];  \n",
        "    two_digits = [\"\", \"ten\", \"eleven\", \"twelve\",  \n",
        "                  \"thirteen\", \"fourteen\", \"fifteen\",  \n",
        "                  \"sixteen\", \"seventeen\", \"eighteen\", \n",
        "                  \"nineteen\"];  \n",
        "    tens_multiple = [\"\", \"\", \"twenty\", \"thirty\", \"forty\", \n",
        "                     \"fifty\", \"sixty\", \"seventy\", \"eighty\",  \n",
        "                     \"ninety\"]; \n",
        "    tens_power = [\"hundred\", \"thousand\"];   \n",
        "    print(num, \":\", end = \" \");   \n",
        "    if (l == 1):  \n",
        "        print(single_digits[ord(num[0]) - '0']); \n",
        "        return;  \n",
        "    x = 0; \n",
        "    while (x < len(num)):    \n",
        "        if (l >= 3): \n",
        "            if (ord(num[x]) - 48 != 0): \n",
        "                print(single_digits[ord(num[x]) - 48],  \n",
        "                                           end = \" \"); \n",
        "                print(tens_power[l - 3], end = \" \");  \n",
        "                  \n",
        "            l -= 1; \n",
        "        else:   \n",
        "            if (ord(num[x]) - 48 == 1):  \n",
        "                sum = (ord(num[x]) - 48 + \n",
        "                       ord(num[x]) - 48); \n",
        "                print(two_digits[sum]); \n",
        "                return;   \n",
        "            elif (ord(num[x]) - 48 == 2 and \n",
        "                  ord(num[x + 1]) - 48 == 0): \n",
        "                print(\"twenty\"); \n",
        "                return;  \n",
        "            else: \n",
        "                i = ord(num[x]) - 48; \n",
        "                if(i > 0): \n",
        "                    print(tens_multiple[i], end = \" \"); \n",
        "                else: \n",
        "                    print(\"\", end = \"\"); \n",
        "                x += 1; \n",
        "                if(ord(num[x]) - 48 != 0): \n",
        "                    print(single_digits[ord(num[x]) - 48]); \n",
        "        x += 1;  \n",
        "convert_to_words(\"923\"); \n",
        "convert_to_words(\"523\"); \n",
        "convert_to_words(\"898\");\n",
        "\n",
        "\n"
      ],
      "execution_count": 0,
      "outputs": [
        {
          "output_type": "stream",
          "text": [
            "923 : nine hundred twenty three\n",
            "523 : five hundred twenty three\n",
            "898 : eight hundred ninety eight\n"
          ],
          "name": "stdout"
        }
      ]
    }
  ]
}