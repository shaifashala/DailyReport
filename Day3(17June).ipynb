{
  "nbformat": 4,
  "nbformat_minor": 0,
  "metadata": {
    "colab": {
      "name": "Day3(17June).ipynb",
      "provenance": [],
      "collapsed_sections": [],
      "authorship_tag": "ABX9TyPNWZwX+nB3GS/xHoI3xh7V",
      "include_colab_link": true
    },
    "kernelspec": {
      "name": "python3",
      "display_name": "Python 3"
    }
  },
  "cells": [
    {
      "cell_type": "markdown",
      "metadata": {
        "id": "view-in-github",
        "colab_type": "text"
      },
      "source": [
        "<a href=\"https://colab.research.google.com/github/shaifashala/DailyReport/blob/master/Day3(17June).ipynb\" target=\"_parent\"><img src=\"https://colab.research.google.com/assets/colab-badge.svg\" alt=\"Open In Colab\"/></a>"
      ]
    },
    {
      "cell_type": "markdown",
      "metadata": {
        "id": "TwS7nOBY0znb",
        "colab_type": "text"
      },
      "source": [
        "EXAMPLE"
      ]
    },
    {
      "cell_type": "code",
      "metadata": {
        "id": "HnRNGnBkkHIW",
        "colab_type": "code",
        "colab": {
          "base_uri": "https://localhost:8080/",
          "height": 221
        },
        "outputId": "95c797c3-8204-4ddd-f7ee-05a5b4fe2767"
      },
      "source": [
        "#Write a Pandas program to create and display a one-dimensional array using series containing event numbers upto 10000\n",
        "import pandas as pd\n",
        "ds = pd.Series([x for x in range(1000) if x%2==0])\n",
        "print(ds)\n"
      ],
      "execution_count": null,
      "outputs": [
        {
          "output_type": "stream",
          "text": [
            "0        0\n",
            "1        2\n",
            "2        4\n",
            "3        6\n",
            "4        8\n",
            "      ... \n",
            "495    990\n",
            "496    992\n",
            "497    994\n",
            "498    996\n",
            "499    998\n",
            "Length: 500, dtype: int64\n"
          ],
          "name": "stdout"
        }
      ]
    },
    {
      "cell_type": "code",
      "metadata": {
        "id": "DNnnA8Omkef1",
        "colab_type": "code",
        "colab": {
          "base_uri": "https://localhost:8080/",
          "height": 221
        },
        "outputId": "918b0655-79f9-4d71-c469-421ef04ed7d8"
      },
      "source": [
        "#2.Write a Pandas program to convert a Panda module Series of the numbers which are between 1000 and 2000 (both inclusive) and divisable by 5 to Python list and after convertion print its type\n",
        "\n",
        "import pandas as pd\n",
        "ds = pd.Series([x for x in range(1000,2000) if x%5==0])\n",
        "print(ds)\n"
      ],
      "execution_count": null,
      "outputs": [
        {
          "output_type": "stream",
          "text": [
            "0      1000\n",
            "1      1005\n",
            "2      1010\n",
            "3      1015\n",
            "4      1020\n",
            "       ... \n",
            "195    1975\n",
            "196    1980\n",
            "197    1985\n",
            "198    1990\n",
            "199    1995\n",
            "Length: 200, dtype: int64\n"
          ],
          "name": "stdout"
        }
      ]
    },
    {
      "cell_type": "markdown",
      "metadata": {
        "id": "qlNYkudgkqJi",
        "colab_type": "text"
      },
      "source": [
        "EXERCISE"
      ]
    },
    {
      "cell_type": "code",
      "metadata": {
        "id": "7OiTZifqkryF",
        "colab_type": "code",
        "colab": {
          "base_uri": "https://localhost:8080/",
          "height": 221
        },
        "outputId": "4a6cf512-a8a0-4f97-fca6-5abc05921080"
      },
      "source": [
        "#1.Write a Pandas program to create and display a one-dimensional array using series containing event numbers upto 10000\n",
        "# ds = pd.Series([0,2, 4, 6, 8..... 10000])\n",
        "\n",
        "import pandas as pd\n",
        "ds = pd.Series([x for x in range(1000) if x%2==0])\n",
        "print(ds)\n"
      ],
      "execution_count": null,
      "outputs": [
        {
          "output_type": "stream",
          "text": [
            "0        0\n",
            "1        2\n",
            "2        4\n",
            "3        6\n",
            "4        8\n",
            "      ... \n",
            "495    990\n",
            "496    992\n",
            "497    994\n",
            "498    996\n",
            "499    998\n",
            "Length: 500, dtype: int64\n"
          ],
          "name": "stdout"
        }
      ]
    },
    {
      "cell_type": "code",
      "metadata": {
        "id": "s5a4y8D6k5rc",
        "colab_type": "code",
        "colab": {
          "base_uri": "https://localhost:8080/",
          "height": 221
        },
        "outputId": "bb76f017-0419-4bf8-eb7d-fe6b46ccdd1c"
      },
      "source": [
        "#2.Write a Pandas program to convert a Panda module Series of the numbers which are between 1000 and 2000 (both inclusive) and divisable by 5 to Python list and after convertion print its type\n",
        "#[ ]\n",
        "import pandas as pd\n",
        "ds = pd.Series([x for x in range(1000,2000) if x%5==0])\n",
        "print(ds)"
      ],
      "execution_count": null,
      "outputs": [
        {
          "output_type": "stream",
          "text": [
            "0      1000\n",
            "1      1005\n",
            "2      1010\n",
            "3      1015\n",
            "4      1020\n",
            "       ... \n",
            "195    1975\n",
            "196    1980\n",
            "197    1985\n",
            "198    1990\n",
            "199    1995\n",
            "Length: 200, dtype: int64\n"
          ],
          "name": "stdout"
        }
      ]
    },
    {
      "cell_type": "code",
      "metadata": {
        "id": "RHuJfm-_lCyY",
        "colab_type": "code",
        "colab": {
          "base_uri": "https://localhost:8080/",
          "height": 493
        },
        "outputId": "69629492-a0af-4861-c5fd-2f8106fda593"
      },
      "source": [
        "#3.Write a Pandas program to add, subtract, multiple and divide two Pandas Series and print their results using the Sample Series: [2, 4, 6, 8, ...100], [1, 3, 5, 7, 9...99]\n",
        "import pandas as pd\n",
        "ds1 = pd.Series([2, 4, 6, 8, 10])\n",
        "ds2 = pd.Series([1, 3, 5, 7, 9])\n",
        "ds = ds1 + ds2\n",
        "print(\"Add two Series:\")\n",
        "print(ds)\n",
        "print(\"Subtract two Series:\")\n",
        "ds = ds1 - ds2\n",
        "print(ds)\n",
        "print(\"Multiply two Series:\")\n",
        "ds = ds1 * ds2\n",
        "print(ds)\n",
        "print(\"Divide Series1 by Series2:\")\n",
        "ds = ds1 / ds2\n",
        "print(ds)"
      ],
      "execution_count": null,
      "outputs": [
        {
          "output_type": "stream",
          "text": [
            "Add two Series:\n",
            "0     3\n",
            "1     7\n",
            "2    11\n",
            "3    15\n",
            "4    19\n",
            "dtype: int64\n",
            "Subtract two Series:\n",
            "0    1\n",
            "1    1\n",
            "2    1\n",
            "3    1\n",
            "4    1\n",
            "dtype: int64\n",
            "Multiply two Series:\n",
            "0     2\n",
            "1    12\n",
            "2    30\n",
            "3    56\n",
            "4    90\n",
            "dtype: int64\n",
            "Divide Series1 by Series2:\n",
            "0    2.000000\n",
            "1    1.333333\n",
            "2    1.200000\n",
            "3    1.142857\n",
            "4    1.111111\n",
            "dtype: float64\n"
          ],
          "name": "stdout"
        }
      ]
    },
    {
      "cell_type": "code",
      "metadata": {
        "id": "laVK0qw1lMWX",
        "colab_type": "code",
        "colab": {
          "base_uri": "https://localhost:8080/",
          "height": 629
        },
        "outputId": "d31fa1b8-e023-44c0-b005-b9fe4c984ffc"
      },
      "source": [
        "#4.Write a Pandas program to compare (Equivalence, greater than, less than, not equal to )the elements of the two Pandas Series.\n",
        "#Sample Series: [All positive numbers divisable by 7 upto 1000], [All positive numbers divisable by 11 upto 1000]\n",
        "#Code:-\n",
        "import pandas as pd\n",
        "ds1 = pd.Series([2, 4, 6, 8, 10])\n",
        "ds2 = pd.Series([1, 3, 5, 7, 10])\n",
        "print(\"Series1:\")\n",
        "print(ds1)\n",
        "print(\"Series2:\")\n",
        "print(ds2)\n",
        "print(\"Compare the elements of the said Series:\")\n",
        "print(\"Equals:\")\n",
        "print(ds1 == ds2)\n",
        "print(\"Greater than:\")\n",
        "print(ds1 > ds2)\n",
        "print(\"Less than:\")\n",
        "print(ds1 < ds2)\n"
      ],
      "execution_count": null,
      "outputs": [
        {
          "output_type": "stream",
          "text": [
            "Series1:\n",
            "0     2\n",
            "1     4\n",
            "2     6\n",
            "3     8\n",
            "4    10\n",
            "dtype: int64\n",
            "Series2:\n",
            "0     1\n",
            "1     3\n",
            "2     5\n",
            "3     7\n",
            "4    10\n",
            "dtype: int64\n",
            "Compare the elements of the said Series:\n",
            "Equals:\n",
            "0    False\n",
            "1    False\n",
            "2    False\n",
            "3    False\n",
            "4     True\n",
            "dtype: bool\n",
            "Greater than:\n",
            "0     True\n",
            "1     True\n",
            "2     True\n",
            "3     True\n",
            "4    False\n",
            "dtype: bool\n",
            "Less than:\n",
            "0    False\n",
            "1    False\n",
            "2    False\n",
            "3    False\n",
            "4    False\n",
            "dtype: bool\n"
          ],
          "name": "stdout"
        }
      ]
    },
    {
      "cell_type": "code",
      "metadata": {
        "id": "c2zi1MD8lXNN",
        "colab_type": "code",
        "colab": {
          "base_uri": "https://localhost:8080/",
          "height": 170
        },
        "outputId": "2bd2e068-6327-4374-81f4-d341d472a0a4"
      },
      "source": [
        "#5.Write a Pandas program to convert a NumPy array to a Pandas series.\n",
        "#Sample NumPy array: d1 = [10, 20, 30, 40, 50... 1000]\n",
        "import numpy as np\n",
        "import pandas as pd\n",
        "np_array = np.array([10, 20, 30, 40, 50])\n",
        "print(\"NumPy array:\")\n",
        "print(np_array)\n",
        "new_series = pd.Series(np_array)\n",
        "print(\"Converted Pandas series:\")\n",
        "print(new_series)"
      ],
      "execution_count": null,
      "outputs": [
        {
          "output_type": "stream",
          "text": [
            "NumPy array:\n",
            "[10 20 30 40 50]\n",
            "Converted Pandas series:\n",
            "0    10\n",
            "1    20\n",
            "2    30\n",
            "3    40\n",
            "4    50\n",
            "dtype: int64\n"
          ],
          "name": "stdout"
        }
      ]
    },
    {
      "cell_type": "code",
      "metadata": {
        "id": "WgkC0BgXkkpV",
        "colab_type": "code",
        "colab": {
          "base_uri": "https://localhost:8080/",
          "height": 289
        },
        "outputId": "ea069621-b7b3-461e-e85d-63be991767fc"
      },
      "source": [
        "#6.Write a Pandas program to convert a given Series to an array.\n",
        "#Sample series is ['100', '200', ‘300’,’400’,’500’,'python', '300.12', '400',’is’,’great’,’language’]\n",
        "#Code:-\n",
        "import pandas as pd\n",
        "import numpy as np\n",
        "s1 = pd.Series(['100', '200', '300','400','500','python', '300.12', '400','is','great','language'])\n",
        "print(\"Original Data Series:\")\n",
        "print(s1)\n",
        "print(\"Series to an array\")\n",
        "a = np.array(s1.values.tolist())\n",
        "print (a)"
      ],
      "execution_count": null,
      "outputs": [
        {
          "output_type": "stream",
          "text": [
            "Original Data Series:\n",
            "0          100\n",
            "1          200\n",
            "2          300\n",
            "3          400\n",
            "4          500\n",
            "5       python\n",
            "6       300.12\n",
            "7          400\n",
            "8           is\n",
            "9        great\n",
            "10    language\n",
            "dtype: object\n",
            "Series to an array\n",
            "['100' '200' '300' '400' '500' 'python' '300.12' '400' 'is' 'great'\n",
            " 'language']\n"
          ],
          "name": "stdout"
        }
      ]
    },
    {
      "cell_type": "code",
      "metadata": {
        "id": "CHK94A7flpW8",
        "colab_type": "code",
        "colab": {
          "base_uri": "https://localhost:8080/",
          "height": 289
        },
        "outputId": "47078450-4f1f-41c0-82e5-aaab945432c6"
      },
      "source": [
        "#7.Write a Pandas program to sort a given Series.\n",
        "#Sample series is ['100', '200', ‘300’,’400’,’500’,'python', '300.12', '400',’is’,’great’,’language’]\n",
        "#Code:-\n",
        "import pandas as pd\n",
        "import numpy as np\n",
        "s1 = pd.Series(['100', '200', '300','400','500','python', '300.12', '400','is','great','language'])\n",
        "print(\"Original Data Series:\")\n",
        "print(s1)\n",
        "print(\"Series to an array\")\n",
        "a = np.array(s1.values.tolist())\n",
        "a.sort()\n",
        "print (a)\n"
      ],
      "execution_count": null,
      "outputs": [
        {
          "output_type": "stream",
          "text": [
            "Original Data Series:\n",
            "0          100\n",
            "1          200\n",
            "2          300\n",
            "3          400\n",
            "4          500\n",
            "5       python\n",
            "6       300.12\n",
            "7          400\n",
            "8           is\n",
            "9        great\n",
            "10    language\n",
            "dtype: object\n",
            "Series to an array\n",
            "['100' '200' '300' '300.12' '400' '400' '500' 'great' 'is' 'language'\n",
            " 'python']\n"
          ],
          "name": "stdout"
        }
      ]
    },
    {
      "cell_type": "code",
      "metadata": {
        "id": "etpnyIJ0l0qT",
        "colab_type": "code",
        "colab": {
          "base_uri": "https://localhost:8080/",
          "height": 391
        },
        "outputId": "21f1b766-b03a-4a84-94e0-9fe6389f29f4"
      },
      "source": [
        "#8.Write a Pandas program to create a subsets of a given series based on value and condition.\n",
        "#Sample NumPy array: d1 = [10, 20, 30, 40, 50... 1000] value and condtion : Subset 1 :numbers divisable by 7 Subset 2 : numbers divisable by 5\n",
        "#Code:-\n",
        "import pandas as pd\n",
        "s = pd.Series([0, 1,2,3,4,5,6,7,8,9,10])\n",
        "print(\"Original Data Series:\")\n",
        "print(s)\n",
        "print(\"\\nSubset of the above Data Series:\")\n",
        "n = 6\n",
        "new_s = s[s < n]\n",
        "print(new_s)"
      ],
      "execution_count": null,
      "outputs": [
        {
          "output_type": "stream",
          "text": [
            "Original Data Series:\n",
            "0      0\n",
            "1      1\n",
            "2      2\n",
            "3      3\n",
            "4      4\n",
            "5      5\n",
            "6      6\n",
            "7      7\n",
            "8      8\n",
            "9      9\n",
            "10    10\n",
            "dtype: int64\n",
            "\n",
            "Subset of the above Data Series:\n",
            "0    0\n",
            "1    1\n",
            "2    2\n",
            "3    3\n",
            "4    4\n",
            "5    5\n",
            "dtype: int64\n"
          ],
          "name": "stdout"
        }
      ]
    },
    {
      "cell_type": "code",
      "metadata": {
        "id": "T2ofSARlmCED",
        "colab_type": "code",
        "colab": {
          "base_uri": "https://localhost:8080/",
          "height": 306
        },
        "outputId": "a03a26aa-8745-479f-8bc8-945174675933"
      },
      "source": [
        "#9.Write a Pandas program to create the mean and standard deviation, maximum and minimum of the data of a given Series of the prime numbers upto 1000\n",
        "#Code:-\n",
        "import pandas as pd\n",
        "s = pd.Series(data = [x for x in range(1000) if x%2==0])\n",
        "print(\"Original Data Series:\")\n",
        "print(s)\n",
        "print(\"Mean of the said Data Series:\")\n",
        "print(s.mean())\n",
        "print(\"Standard deviation of the said Data Series:\")\n",
        "print(s.std())"
      ],
      "execution_count": null,
      "outputs": [
        {
          "output_type": "stream",
          "text": [
            "Original Data Series:\n",
            "0        0\n",
            "1        2\n",
            "2        4\n",
            "3        6\n",
            "4        8\n",
            "      ... \n",
            "495    990\n",
            "496    992\n",
            "497    994\n",
            "498    996\n",
            "499    998\n",
            "Length: 500, dtype: int64\n",
            "Mean of the said Data Series:\n",
            "499.0\n",
            "Standard deviation of the said Data Series:\n",
            "288.9636655359978\n"
          ],
          "name": "stdout"
        }
      ]
    },
    {
      "cell_type": "code",
      "metadata": {
        "id": "nRbMym63mJl7",
        "colab_type": "code",
        "colab": {
          "base_uri": "https://localhost:8080/",
          "height": 119
        },
        "outputId": "3dcce3ba-3fb0-47fd-d312-9afc1efbc73e"
      },
      "source": [
        "#10.Write a Pandas program to get the elements of an array values into column-wise.\n",
        "#Sample data: {‘X’:[All odd numbers but not divisable by 7 upto 1000], 'Y':[ All even numbers but not divisable by 5 upto 1000 ],'Z':[ All odd numbers but not divisable by 3 upto 1000]}\n",
        "#Code:-\n",
        "import pandas as pd\n",
        "df = pd.DataFrame({'X':[78,85,96,80,86], 'Y':[84,94,89,83,86],'Z':[86,97,96,72,83]});\n",
        "print(df)"
      ],
      "execution_count": null,
      "outputs": [
        {
          "output_type": "stream",
          "text": [
            "    X   Y   Z\n",
            "0  78  84  86\n",
            "1  85  94  97\n",
            "2  96  89  96\n",
            "3  80  83  72\n",
            "4  86  86  83\n"
          ],
          "name": "stdout"
        }
      ]
    },
    {
      "cell_type": "code",
      "metadata": {
        "id": "_pwpSonx8QOf",
        "colab_type": "code",
        "colab": {
          "base_uri": "https://localhost:8080/",
          "height": 204
        },
        "outputId": "4b8652ff-18ac-46fa-c7cc-e2715fde6814"
      },
      "source": [
        "#11.Write a Pandas program to display the first 10 rows of the DataFrame for any particular three fields.\n",
        "#Code:-\n",
        "import pandas as pd\n",
        "import numpy as np\n",
        "\n",
        "exam_data  = {'name': ['Anastasia', 'Dima', 'Katherine', 'James', 'Emily', 'Michael', 'Matthew', 'Laura', 'Kevin', 'Jonas'],\n",
        "        'score': [12.5, 9, 16.5, np.nan, 9, 20, 14.5, np.nan, 8, 19],\n",
        "        'attempts': [1, 3, 2, 3, 2, 3, 1, 1, 2, 1],\n",
        "        'qualify': ['yes', 'no', 'yes', 'no', 'no', 'yes', 'yes', 'no', 'no', 'yes']}\n",
        "labels = ['a', 'b', 'c', 'd', 'e', 'f', 'g', 'h', 'i', 'j']\n",
        "\n",
        "df = pd.DataFrame(exam_data , index=labels)\n",
        "print(\"First three rows of the data frame:\")\n",
        "print(df.iloc[:3])\n",
        "\n",
        "\n",
        "!pip install -U -q PyDrive\n",
        "from pydrive.auth import GoogleAuth\n",
        "from pydrive.drive import GoogleDrive\n",
        "from google.colab import auth\n",
        "from oauth2client.client import GoogleCredentials\n",
        "\n",
        "\n",
        "auth.authenticate_user()\n",
        "gauth = GoogleAuth()\n",
        "gauth.credentials = GoogleCredentials.get_application_default()\n",
        "drive = GoogleDrive(gauth)\n",
        "\n",
        "downloaded = drive.CreateFile({'id':'19x9NcgKGDT71QP-Hsnl4lixX8J-edhan'}) # replace the id with id of file you want to access\n",
        "downloaded.GetContentFile('movies_metadata.csv') \n",
        "\n",
        "import pandas as pd\n",
        "xyz = pd.read_csv('movies_metadata.csv') \n",
        "print(xyz.head(1))"
      ],
      "execution_count": 110,
      "outputs": [
        {
          "output_type": "stream",
          "text": [
            "First three rows of the data frame:\n",
            "        name  score  attempts qualify\n",
            "a  Anastasia   12.5         1     yes\n",
            "b       Dima    9.0         3      no\n",
            "c  Katherine   16.5         2     yes\n",
            "   adult  ... vote_count\n",
            "0  False  ...     5415.0\n",
            "\n",
            "[1 rows x 24 columns]\n"
          ],
          "name": "stdout"
        },
        {
          "output_type": "stream",
          "text": [
            "/usr/local/lib/python3.6/dist-packages/IPython/core/interactiveshell.py:2718: DtypeWarning: Columns (10) have mixed types.Specify dtype option on import or set low_memory=False.\n",
            "  interactivity=interactivity, compiler=compiler, result=result)\n"
          ],
          "name": "stderr"
        }
      ]
    },
    {
      "cell_type": "code",
      "metadata": {
        "id": "eq0SqMSVHGxx",
        "colab_type": "code",
        "colab": {
          "base_uri": "https://localhost:8080/",
          "height": 493
        },
        "outputId": "0fb23342-6c93-4faf-c45d-949083fcca60"
      },
      "source": [
        "#12.Write a Pandas program to get the details of the seventh movie of the DataFrame for any particular three fields #(movie_metadata.csv file).\n",
        "#Code:-\n",
        "import pandas as pd\n",
        "df = pd.read_csv('movies_metadata.csv')\n",
        "seventh_movie = df.iloc[3]\n",
        "print(\"Details of the seventh movie:\")\n",
        "print(seventh_movie)\n"
      ],
      "execution_count": 114,
      "outputs": [
        {
          "output_type": "stream",
          "text": [
            "Details of the seventh movie:\n",
            "adult                                                                False\n",
            "belongs_to_collection                                                  NaN\n",
            "budget                                                            16000000\n",
            "genres                   [{'id': 35, 'name': 'Comedy'}, {'id': 18, 'nam...\n",
            "homepage                                                               NaN\n",
            "id                                                                   31357\n",
            "imdb_id                                                          tt0114885\n",
            "original_language                                                       en\n",
            "original_title                                           Waiting to Exhale\n",
            "overview                 Cheated on, mistreated and stepped on, the wom...\n",
            "popularity                                                         3.85949\n",
            "poster_path                               /16XOMpEaLWkrcPqSQqhTmeJuqQl.jpg\n",
            "production_companies     [{'name': 'Twentieth Century Fox Film Corporat...\n",
            "production_countries     [{'iso_3166_1': 'US', 'name': 'United States o...\n",
            "release_date                                                    1995-12-22\n",
            "revenue                                                        8.14522e+07\n",
            "runtime                                                                127\n",
            "spoken_languages                  [{'iso_639_1': 'en', 'name': 'English'}]\n",
            "status                                                            Released\n",
            "tagline                  Friends are the people who let you be yourself...\n",
            "title                                                    Waiting to Exhale\n",
            "video                                                                False\n",
            "vote_average                                                           6.1\n",
            "vote_count                                                              34\n",
            "Name: 3, dtype: object\n"
          ],
          "name": "stdout"
        },
        {
          "output_type": "stream",
          "text": [
            "/usr/local/lib/python3.6/dist-packages/IPython/core/interactiveshell.py:2718: DtypeWarning: Columns (10) have mixed types.Specify dtype option on import or set low_memory=False.\n",
            "  interactivity=interactivity, compiler=compiler, result=result)\n"
          ],
          "name": "stderr"
        }
      ]
    },
    {
      "cell_type": "code",
      "metadata": {
        "id": "YxBQiwUwHQzD",
        "colab_type": "code",
        "colab": {
          "base_uri": "https://localhost:8080/",
          "height": 306
        },
        "outputId": "d11e63e8-e50a-45aa-e0db-c60f85aa3050"
      },
      "source": [
        "#13.Write a Pandas program to sort the DataFrame based on title_year from dataset of movie_metadata.csv for any particular three fields\n",
        "#Code:-\n",
        "import pandas as pd\n",
        "df = pd.read_csv('movies_metadata.csv')\n",
        "result = df[['title', 'genres']]\n",
        "print(\"Details of title and genres:\")\n",
        "print(result)"
      ],
      "execution_count": 115,
      "outputs": [
        {
          "output_type": "stream",
          "text": [
            "Details of title and genres:\n",
            "                             title                                             genres\n",
            "0                        Toy Story  [{'id': 16, 'name': 'Animation'}, {'id': 35, '...\n",
            "1                          Jumanji  [{'id': 12, 'name': 'Adventure'}, {'id': 14, '...\n",
            "2                 Grumpier Old Men  [{'id': 10749, 'name': 'Romance'}, {'id': 35, ...\n",
            "3                Waiting to Exhale  [{'id': 35, 'name': 'Comedy'}, {'id': 18, 'nam...\n",
            "4      Father of the Bride Part II                     [{'id': 35, 'name': 'Comedy'}]\n",
            "...                            ...                                                ...\n",
            "45461                       Subdue  [{'id': 18, 'name': 'Drama'}, {'id': 10751, 'n...\n",
            "45462          Century of Birthing                      [{'id': 18, 'name': 'Drama'}]\n",
            "45463                     Betrayal  [{'id': 28, 'name': 'Action'}, {'id': 18, 'nam...\n",
            "45464             Satan Triumphant                                                 []\n",
            "45465                     Queerama                                                 []\n",
            "\n",
            "[45466 rows x 2 columns]\n"
          ],
          "name": "stdout"
        },
        {
          "output_type": "stream",
          "text": [
            "/usr/local/lib/python3.6/dist-packages/IPython/core/interactiveshell.py:2718: DtypeWarning: Columns (10) have mixed types.Specify dtype option on import or set low_memory=False.\n",
            "  interactivity=interactivity, compiler=compiler, result=result)\n"
          ],
          "name": "stderr"
        }
      ]
    },
    {
      "cell_type": "code",
      "metadata": {
        "id": "JmOt0sKqHZXN",
        "colab_type": "code",
        "colab": {
          "base_uri": "https://localhost:8080/",
          "height": 306
        },
        "outputId": "479c46b5-4a33-40b2-a77b-b6af87aea6c3"
      },
      "source": [
        "#14.Write a Pandas program to sort the DataFrame based on country and language from dataset of movie_metadata.csv\n",
        "#Code:-\n",
        "import pandas as pd\n",
        "df = pd.read_csv('movies_metadata.csv')\n",
        "# Create a smaller dataframe\n",
        "small_df = df[['title', 'release_date', 'budget', 'revenue', 'runtime']]\n",
        "result = small_df.sort_values('release_date')\n",
        "print(\"DataFrame based on country and language.\")\n",
        "print(result)"
      ],
      "execution_count": 116,
      "outputs": [
        {
          "output_type": "stream",
          "text": [
            "DataFrame based on country and language.\n",
            "                                                title  ... runtime\n",
            "19730                                             NaN  ...     NaN\n",
            "29503                                             NaN  ...     NaN\n",
            "34940                                Passage of Venus  ...     1.0\n",
            "34937                      Sallie Gardner at a Gallop  ...     1.0\n",
            "41602                                 Buffalo Running  ...     1.0\n",
            "...                                               ...  ...     ...\n",
            "45148                                 Engineering Red  ...    76.0\n",
            "45203  All Superheroes Must Die 2: The Last Superhero  ...    74.0\n",
            "45338                  The Land Where the Blues Began  ...     0.0\n",
            "45410                                           Aprel  ...     NaN\n",
            "45461                                          Subdue  ...    90.0\n",
            "\n",
            "[45466 rows x 5 columns]\n"
          ],
          "name": "stdout"
        },
        {
          "output_type": "stream",
          "text": [
            "/usr/local/lib/python3.6/dist-packages/IPython/core/interactiveshell.py:2718: DtypeWarning: Columns (10) have mixed types.Specify dtype option on import or set low_memory=False.\n",
            "  interactivity=interactivity, compiler=compiler, result=result)\n"
          ],
          "name": "stderr"
        }
      ]
    },
    {
      "cell_type": "code",
      "metadata": {
        "id": "rg0BsK7_s10T",
        "colab_type": "code",
        "colab": {
          "base_uri": "https://localhost:8080/",
          "height": 102
        },
        "outputId": "29a6cbe8-7fab-4eaa-8bc5-26e69823ce98"
      },
      "source": [
        "#15.Write a NumPy program to create a random 4x4 array and extract the 2nd and 3rd rows of the array and store them into a variable\n",
        "#Code:-\n",
        "import numpy as np\n",
        "x = np.random.random((4,4))\n",
        "print(\"Original Array:\")\n",
        "print(x) "
      ],
      "execution_count": 111,
      "outputs": [
        {
          "output_type": "stream",
          "text": [
            "Original Array:\n",
            "[[0.450976   0.4349488  0.08427857 0.09415921]\n",
            " [0.39446572 0.29690125 0.33800053 0.87642384]\n",
            " [0.63050192 0.61616216 0.79259877 0.79059001]\n",
            " [0.73813249 0.45959293 0.02841604 0.23077977]]\n"
          ],
          "name": "stdout"
        }
      ]
    },
    {
      "cell_type": "code",
      "metadata": {
        "id": "xoff-r65tA3C",
        "colab_type": "code",
        "colab": {
          "base_uri": "https://localhost:8080/",
          "height": 408
        },
        "outputId": "5c685f9e-9724-4f46-90b5-443879a0a780"
      },
      "source": [
        "#16.Write a NumPy program to create a 10x10 array with random values and find the minimum and maximum values.\n",
        "#Code:-\n",
        "import numpy as np\n",
        "x = np.random.random((10,10))\n",
        "print(\"Original Array:\")\n",
        "print(x) \n",
        "xmin, xmax = x.min(), x.max()\n",
        "print(\"Minimum and Maximum Values:\")\n",
        "print(xmin, xmax)"
      ],
      "execution_count": 112,
      "outputs": [
        {
          "output_type": "stream",
          "text": [
            "Original Array:\n",
            "[[0.26747168 0.58297189 0.03546277 0.66089153 0.33987709 0.30835899\n",
            "  0.72629244 0.63710182 0.02070401 0.54791326]\n",
            " [0.06526951 0.82648986 0.75624017 0.06674029 0.20515181 0.55252271\n",
            "  0.69198911 0.61576772 0.13070096 0.76016913]\n",
            " [0.22633359 0.29113309 0.52310091 0.15074224 0.88660221 0.84388028\n",
            "  0.37266733 0.84641473 0.98276356 0.13160209]\n",
            " [0.96511075 0.51082025 0.07867684 0.0965575  0.31894279 0.69243892\n",
            "  0.65709547 0.90563264 0.82801712 0.52994463]\n",
            " [0.8626597  0.13376648 0.26978723 0.63891642 0.15423677 0.85977376\n",
            "  0.49095489 0.66650217 0.49744572 0.23088239]\n",
            " [0.85170527 0.77628495 0.20648914 0.62233713 0.69504426 0.06649843\n",
            "  0.51371505 0.51605969 0.15389109 0.91772325]\n",
            " [0.37833592 0.50066119 0.67456038 0.47023497 0.70802703 0.50111229\n",
            "  0.86942472 0.228862   0.94882195 0.89930908]\n",
            " [0.65574924 0.53735694 0.93929791 0.74957791 0.42374595 0.65438101\n",
            "  0.28951156 0.85211909 0.01710264 0.24610326]\n",
            " [0.13363436 0.79963311 0.37425659 0.82428518 0.22738666 0.49360146\n",
            "  0.81881424 0.03604623 0.11752861 0.57782786]\n",
            " [0.26780985 0.70866279 0.84891246 0.09291488 0.64720972 0.42144358\n",
            "  0.58847609 0.42249492 0.92972108 0.31043578]]\n",
            "Minimum and Maximum Values:\n",
            "0.01710263552802871 0.9827635600545696\n"
          ],
          "name": "stdout"
        }
      ]
    },
    {
      "cell_type": "code",
      "metadata": {
        "id": "du6tOj-6tLNq",
        "colab_type": "code",
        "colab": {
          "base_uri": "https://localhost:8080/",
          "height": 34
        },
        "outputId": "9b7f2e32-99fa-40e1-cd2c-ccb33f9242b8"
      },
      "source": [
        "#17.Write a NumPy program to generate 8 random integers between 100 and 300\n",
        "#Code:-\n",
        "import numpy as np\n",
        "x = np.random.randint(low=100, high=300, size=8)\n",
        "print(x)\n",
        "\n"
      ],
      "execution_count": 113,
      "outputs": [
        {
          "output_type": "stream",
          "text": [
            "[155 273 221 291 134 249 211 251]\n"
          ],
          "name": "stdout"
        }
      ]
    },
    {
      "cell_type": "code",
      "metadata": {
        "id": "ddCzv_tStRym",
        "colab_type": "code",
        "colab": {
          "base_uri": "https://localhost:8080/",
          "height": 187
        },
        "outputId": "35bb806f-490e-4c25-b4af-926e125b4ba6"
      },
      "source": [
        "#18.Write a NumPy program to create a random integer nos of size 20 and sort it\n",
        "#Code:-\n",
        "import numpy as np\n",
        "x = np.random.random(20)\n",
        "print(\"Original array:\")\n",
        "print(x)\n",
        "x.sort()\n",
        "print(\"Sorted array:\")\n",
        "print(x)"
      ],
      "execution_count": null,
      "outputs": [
        {
          "output_type": "stream",
          "text": [
            "Original array:\n",
            "[0.87491021 0.06844806 0.42441615 0.91207874 0.69263761 0.1836315\n",
            " 0.50231359 0.18723623 0.10218948 0.05078641 0.12889802 0.72054824\n",
            " 0.25549592 0.83436048 0.61524207 0.87286958 0.60326625 0.08726336\n",
            " 0.20963524 0.59418842]\n",
            "Sorted array:\n",
            "[0.05078641 0.06844806 0.08726336 0.10218948 0.12889802 0.1836315\n",
            " 0.18723623 0.20963524 0.25549592 0.42441615 0.50231359 0.59418842\n",
            " 0.60326625 0.61524207 0.69263761 0.72054824 0.83436048 0.87286958\n",
            " 0.87491021 0.91207874]\n"
          ],
          "name": "stdout"
        }
      ]
    }
  ]
}